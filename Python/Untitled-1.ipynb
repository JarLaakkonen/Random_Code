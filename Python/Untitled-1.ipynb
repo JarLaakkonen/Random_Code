{
 "cells": [
  {
   "cell_type": "code",
   "execution_count": 30,
   "metadata": {},
   "outputs": [
    {
     "name": "stdout",
     "output_type": "stream",
     "text": [
      "38:7D:98:45:F0:26\n",
      "D0:89:7D:1E:A1:8B\n"
     ]
    }
   ],
   "source": [
    "import asyncio\n",
    "from bleak import BleakScanner\n",
    "\n",
    "async def main():\n",
    "    devices = await BleakScanner.discover(5.0, return_adv=True)\n",
    "    for d in devices:\n",
    "        print(d)\n",
    "\n",
    "await main()\n",
    "# asyncio.run(main())"
   ]
  },
  {
   "cell_type": "code",
   "execution_count": 31,
   "metadata": {},
   "outputs": [
    {
     "name": "stdout",
     "output_type": "stream",
     "text": [
      "Found it\n",
      "Services:\n",
      "00001801-0000-1000-8000-00805f9b34fb (Handle: 1): Generic Attribute Profile\n",
      "00001800-0000-1000-8000-00805f9b34fb (Handle: 9): Generic Access Profile\n",
      "00001523-1212-efde-1523-785feabcd123 (Handle: 16): Nordic LED Button Service\n"
     ]
    }
   ],
   "source": [
    "import asyncio\n",
    "from bleak import BleakScanner, BleakClient\n",
    "\n",
    "async def main():\n",
    "    myDevice = ''\n",
    "    devices = await BleakScanner.discover(5.0, return_adv=True)\n",
    "    for d in devices:\n",
    "        if(devices[d][1].local_name == 'Harjoittelua'):\n",
    "            print(\"Found it\")\n",
    "            myDevice = d\n",
    "\n",
    "    address = myDevice\n",
    "    async with BleakClient(address) as client:\n",
    "        svcs = client.services\n",
    "        print(\"Services:\")\n",
    "        for service in svcs:\n",
    "            print(service)\n",
    "\n",
    "\n",
    "await (main())"
   ]
  },
  {
   "cell_type": "code",
   "execution_count": null,
   "metadata": {},
   "outputs": [
    {
     "ename": "TypeError",
     "evalue": "main() takes 0 positional arguments but 1 was given",
     "output_type": "error",
     "traceback": [
      "\u001b[1;31m---------------------------------------------------------------------------\u001b[0m",
      "\u001b[1;31mTypeError\u001b[0m                                 Traceback (most recent call last)",
      "Cell \u001b[1;32mIn[34], line 24\u001b[0m\n\u001b[0;32m     21\u001b[0m         \u001b[38;5;28;01mawait\u001b[39;00m asyncio\u001b[38;5;241m.\u001b[39msleep(\u001b[38;5;241m30\u001b[39m)\n\u001b[0;32m     22\u001b[0m         \u001b[38;5;28;01mawait\u001b[39;00m client\u001b[38;5;241m.\u001b[39mstop_notify(characteristic_uuid)\n\u001b[1;32m---> 24\u001b[0m \u001b[38;5;28;01mawait\u001b[39;00m (\u001b[43mmain\u001b[49m\u001b[43m(\u001b[49m\u001b[43maddress\u001b[49m\u001b[43m)\u001b[49m)\n",
      "\u001b[1;31mTypeError\u001b[0m: main() takes 0 positional arguments but 1 was given"
     ]
    }
   ],
   "source": [
    "import asyncio\n",
    "from bleak import BleakClient\n",
    "\n",
    "address = \"D0:89:7D:1E:A1:8B\"\n",
    "MODEL_NBR_UUID = \"00001526-1212-efde-1523-785feabcd123\"\n",
    "\"\"\"\n",
    "00001801-0000-1000-8000-00805f9b34fb (Handle: 1): Generic Attribute Profile\n",
    "00001800-0000-1000-8000-00805f9b34fb (Handle: 9): Generic Access Profile\n",
    "00001523-1212-efde-1523-785feabcd123 (Handle: 16): Nordic LED Button Service\n",
    "\"\"\"\n",
    "async def main(address):\n",
    "    async with BleakClient(address) as client:\n",
    "        model_number = await client.read_gatt_char(MODEL_NBR_UUID)\n",
    "        print(\"Model Number: {0}\".format(\"\".join(map(chr, model_number))))\n",
    "\n",
    "await (main(address))\n"
   ]
  },
  {
   "cell_type": "code",
   "execution_count": 29,
   "metadata": {},
   "outputs": [
    {
     "name": "stderr",
     "output_type": "stream",
     "text": [
      "usage: ipykernel_launcher.py [-h] (--name <name> | --address <address>)\n",
      "                             [--macos-use-bdaddr] [-d]\n",
      "                             <notify uuid>\n",
      "ipykernel_launcher.py: error: the following arguments are required: <notify uuid>\n"
     ]
    },
    {
     "ename": "SystemExit",
     "evalue": "2",
     "output_type": "error",
     "traceback": [
      "An exception has occurred, use %tb to see the full traceback.\n",
      "\u001b[1;31mSystemExit\u001b[0m\u001b[1;31m:\u001b[0m 2\n"
     ]
    }
   ],
   "source": [
    "import argparse\n",
    "import asyncio\n",
    "import logging\n",
    "\n",
    "from bleak import BleakClient, BleakScanner\n",
    "from bleak.backends.characteristic import BleakGATTCharacteristic\n",
    "\n",
    "logger = logging.getLogger(__name__)\n",
    "\n",
    "\n",
    "def notification_handler(characteristic: BleakGATTCharacteristic, data: bytearray):\n",
    "    \"\"\"Simple notification handler which prints the data received.\"\"\"\n",
    "    logger.info(\"%s: %r\", characteristic.description, data)\n",
    "\n",
    "\n",
    "async def main(args: argparse.Namespace):\n",
    "    logger.info(\"starting scan...\")\n",
    "\n",
    "    if args.address:\n",
    "        device = await BleakScanner.find_device_by_address(\n",
    "            args.address, cb=dict(use_bdaddr=args.macos_use_bdaddr)\n",
    "        )\n",
    "        if device is None:\n",
    "            logger.error(\"could not find device with address '%s'\", args.address)\n",
    "            return\n",
    "    else:\n",
    "        device = await BleakScanner.find_device_by_name(\n",
    "            args.name, cb=dict(use_bdaddr=args.macos_use_bdaddr)\n",
    "        )\n",
    "        if device is None:\n",
    "            logger.error(\"could not find device with name '%s'\", args.name)\n",
    "            return\n",
    "\n",
    "    logger.info(\"connecting to device...\")\n",
    "\n",
    "    async with BleakClient(device) as client:\n",
    "        logger.info(\"Connected\")\n",
    "\n",
    "        await client.start_notify(args.characteristic, notification_handler)\n",
    "        await asyncio.sleep(5.0)\n",
    "        await client.stop_notify(args.characteristic)\n",
    "\n",
    "\n",
    "if __name__ == \"__main__\":\n",
    "    parser = argparse.ArgumentParser()\n",
    "\n",
    "    device_group = parser.add_mutually_exclusive_group(required=True)\n",
    "\n",
    "    device_group.add_argument(\n",
    "        \"--name\",\n",
    "        metavar=\"<name>\",\n",
    "        help=\"the name of the bluetooth device to connect to\",\n",
    "    )\n",
    "    device_group.add_argument(\n",
    "        \"--address\",\n",
    "        metavar=\"<address>\",\n",
    "        help=\"the address of the bluetooth device to connect to\",\n",
    "    )\n",
    "\n",
    "    parser.add_argument(\n",
    "        \"--macos-use-bdaddr\",\n",
    "        action=\"store_true\",\n",
    "        help=\"when true use Bluetooth address instead of UUID on macOS\",\n",
    "    )\n",
    "\n",
    "    parser.add_argument(\n",
    "        \"characteristic\",\n",
    "        metavar=\"<notify uuid>\",\n",
    "        help=\"UUID of a characteristic that supports notifications\",\n",
    "    )\n",
    "\n",
    "    parser.add_argument(\n",
    "        \"-d\",\n",
    "        \"--debug\",\n",
    "        action=\"store_true\",\n",
    "        help=\"sets the log level to debug\",\n",
    "    )\n",
    "\n",
    "    args = parser.parse_args()\n",
    "\n",
    "    log_level = logging.DEBUG if args.debug else logging.INFO\n",
    "    logging.basicConfig(\n",
    "        level=log_level,\n",
    "        format=\"%(asctime)-15s %(name)-8s %(levelname)s: %(message)s\",\n",
    "    )\n",
    "\n",
    "    await (main(args))"
   ]
  },
  {
   "cell_type": "code",
   "execution_count": 32,
   "metadata": {},
   "outputs": [
    {
     "name": "stderr",
     "output_type": "stream",
     "text": [
      "usage: ipykernel_launcher.py [-h] [--services [<uuid> ...]]\n",
      "                             [--macos-use-bdaddr]\n",
      "ipykernel_launcher.py: error: unrecognized arguments: --f=c:\\Users\\jarno\\AppData\\Roaming\\jupyter\\runtime\\kernel-v3191a8289fad420feab075e915b839f3971fa594f.json\n"
     ]
    },
    {
     "ename": "SystemExit",
     "evalue": "2",
     "output_type": "error",
     "traceback": [
      "An exception has occurred, use %tb to see the full traceback.\n",
      "\u001b[1;31mSystemExit\u001b[0m\u001b[1;31m:\u001b[0m 2\n"
     ]
    },
    {
     "name": "stderr",
     "output_type": "stream",
     "text": [
      "c:\\Users\\jarno\\Desktop\\Random_Code\\Random_Code\\Python\\.venv\\Lib\\site-packages\\IPython\\core\\interactiveshell.py:3585: UserWarning: To exit: use 'exit', 'quit', or Ctrl-D.\n",
      "  warn(\"To exit: use 'exit', 'quit', or Ctrl-D.\", stacklevel=1)\n"
     ]
    }
   ],
   "source": [
    "import argparse\n",
    "import asyncio\n",
    "\n",
    "from bleak import BleakScanner\n",
    "\n",
    "\n",
    "async def main(args: argparse.Namespace):\n",
    "    print(\"scanning for 5 seconds, please wait...\")\n",
    "\n",
    "    devices = await BleakScanner.discover(\n",
    "        return_adv=True,\n",
    "        service_uuids=args.services,\n",
    "        cb=dict(use_bdaddr=args.macos_use_bdaddr),\n",
    "    )\n",
    "\n",
    "    for d, a in devices.values():\n",
    "        print()\n",
    "        print(d)\n",
    "        print(\"-\" * len(str(d)))\n",
    "        print(a)\n",
    "\n",
    "\n",
    "if __name__ == \"__main__\":\n",
    "    parser = argparse.ArgumentParser()\n",
    "\n",
    "    parser.add_argument(\n",
    "        \"--services\",\n",
    "        metavar=\"<uuid>\",\n",
    "        nargs=\"*\",\n",
    "        help=\"UUIDs of one or more services to filter for\",\n",
    "    )\n",
    "\n",
    "    parser.add_argument(\n",
    "        \"--macos-use-bdaddr\",\n",
    "        action=\"store_true\",\n",
    "        help=\"when true use Bluetooth address instead of UUID on macOS\",\n",
    "    )\n",
    "\n",
    "    args = parser.parse_args()\n",
    "\n",
    "    await (main(args))"
   ]
  }
 ],
 "metadata": {
  "kernelspec": {
   "display_name": ".venv",
   "language": "python",
   "name": "python3"
  },
  "language_info": {
   "codemirror_mode": {
    "name": "ipython",
    "version": 3
   },
   "file_extension": ".py",
   "mimetype": "text/x-python",
   "name": "python",
   "nbconvert_exporter": "python",
   "pygments_lexer": "ipython3",
   "version": "3.12.2"
  }
 },
 "nbformat": 4,
 "nbformat_minor": 2
}
