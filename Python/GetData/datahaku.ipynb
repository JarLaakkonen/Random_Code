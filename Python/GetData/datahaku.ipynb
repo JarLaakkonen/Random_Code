{
 "cells": [
  {
   "cell_type": "code",
   "execution_count": 11,
   "metadata": {},
   "outputs": [],
   "source": [
    "import numpy as np\n",
    "import pandas as pd\n",
    "import mysql.connector\n",
    "import requests as rq\n",
    "import configparser\n",
    "import MySQLdb.cursors\n",
    "import csv"
   ]
  },
  {
   "cell_type": "code",
   "execution_count": null,
   "metadata": {},
   "outputs": [
    {
     "name": "stdout",
     "output_type": "stream",
     "text": [
      "Time: 2024-11-15 11:50:04 - ID : 230 - Sensor A: 1 - Sensor X: 2726 - Sensor Y: 2084 - Sensor Z: 2309<br>Time: 2024-11-15 11:50:04 - ID : 231 - Sensor A: 1 - Sensor X: 2373 - Sensor Y: 2264 - Sensor Z: 2903<br>Time: 2024-11-15 11:50:03 - ID : 229 - Sensor A: 1 - Sensor X: 2392 - Sensor Y: 2039 - Sensor Z: 2337<br>Time: 2024-11-15 11:50:03 - ID : 228 - Sensor A: 1 - Sensor X: 2207 - Sensor Y: 2096 - Sensor Z: 2462<br>Time: 2024-11-15 11:50:02 - ID : 227 - Sensor A: 1 - Sensor X: 2141 - Sensor Y: 2184 - Sensor Z: 2621<br>Time: 2024-11-15 11:50:02 - ID : 226 - Sensor A: 1 - Sensor X: 2413 - Sensor Y: 2393 - Sensor Z: 2961<br>Time: 2024-11-15 11:50:01 - ID : 225 - Sensor A: 1 - Sensor X: 2507 - Sensor Y: 2376 - Sensor Z: 2966<br>Time: 2024-11-15 11:50:01 - ID : 224 - Sensor A: 1 - Sensor X: 2565 - Sensor Y: 2407 - Sensor Z: 2939<br>Time: 2024-11-15 11:50:00 - ID : 223 - Sensor A: 1 - Sensor X: 2861 - Sensor Y: 2515 - Sensor Z: 2729<br>Time: 2024-11-15 11:50:00 - ID : 222 - Sensor A: 1 - Sensor X: 2994 - Sensor Y: 2726 - Sensor Z: 2554<br>Time: 2024-11-15 11:49:59 - ID : 221 - Sensor A: 1 - Sensor X: 2997 - Sensor Y: 2691 - Sensor Z: 2583<br>Time: 2024-11-15 11:49:57 - ID : 220 - Sensor A: 1 - Sensor X: 2605 - Sensor Y: 3088 - Sensor Z: 2614<br>Time: 2024-11-15 11:49:56 - ID : 218 - Sensor A: 1 - Sensor X: 2429 - Sensor Y: 2349 - Sensor Z: 2901<br>Time: 2024-11-15 11:49:56 - ID : 219 - Sensor A: 1 - Sensor X: 2580 - Sensor Y: 2837 - Sensor Z: 2880<br>Time: 2024-11-15 11:49:55 - ID : 217 - Sensor A: 1 - Sensor X: 2467 - Sensor Y: 2489 - Sensor Z: 2991<br>Time: 2024-11-15 11:49:55 - ID : 216 - Sensor A: 1 - Sensor X: 2532 - Sensor Y: 2373 - Sensor Z: 2846<br>Time: 2024-11-15 11:49:54 - ID : 214 - Sensor A: 1 - Sensor X: 2295 - Sensor Y: 2027 - Sensor Z: 2437<br>Time: 2024-11-15 11:49:54 - ID : 215 - Sensor A: 1 - Sensor X: 2313 - Sensor Y: 2025 - Sensor Z: 2402<br>Time: 2024-11-15 11:49:53 - ID : 213 - Sensor A: 1 - Sensor X: 2299 - Sensor Y: 2023 - Sensor Z: 2440<br>Time: 2024-11-15 11:49:53 - ID : 212 - Sensor A: 1 - Sensor X: 2363 - Sensor Y: 1961 - Sensor Z: 2545<br>\n"
     ]
    }
   ],
   "source": [
    "\n",
    "# MUISTA MUOKATA EI MUUTE TOIMI!\n",
    "url = 'http://ip osoite!/filename.php'\n",
    "response = rq.get(url)\n",
    "print(response.text)  \n",
    "\n",
    "with open('Data.csv', 'w', newline='') as csvfile:\n",
    "    fieldnames = ['Time', 'ID', 'Sensor A', 'Sensor X', 'Sensor Y', 'Sensor Z']\n",
    "    writer = csv.writer(csvfile)\n",
    "    writer.writerow(fieldnames)  \n",
    "    for line in response.text.split('<br>'):\n",
    "        if line.strip():  \n",
    "            fields = [part.split(': ')[1] for part in line.split(' - ')]\n",
    "            writer.writerow(fields)"
   ]
  },
  {
   "cell_type": "code",
   "execution_count": 16,
   "metadata": {},
   "outputs": [],
   "source": [
    "# MUISTA LAITTAA OIKEET DATA PASKAT\n",
    "config = configparser.ConfigParser()\n",
    "config.read('config.ini')\n",
    "\n",
    "def connect():\n",
    "    return MySQLdb.connect(host = config['mysqlDB']['host'],\n",
    "                           user = config['mysqlDB']['user'],\n",
    "                           passwd = config['mysqlDB']['pass'],\n",
    "                           db = config['mysqlDB']['db'])\n",
    "mydb=connect()\n",
    "mycursor = mydb.cursor()\n",
    "\n",
    "mycursor.execute(\"SELECT * FROM data\")\n",
    "\n",
    "myresult = mycursor.fetchall()\n",
    "\n",
    "fieldnames = ['ID', 'Timestamp', 'Sensor A', 'Sensor X', 'Sensor Y', 'Sensor Z']\n",
    "\n",
    "\n",
    "with open('MysqlData.csv', 'w', newline='', encoding='utf-8') as csvfile:\n",
    "    writer = csv.writer(csvfile)\n",
    "    writer.writerow(fieldnames)  \n",
    "\n",
    "    for row in myresult:\n",
    "        writer.writerow(row)\n"
   ]
  }
 ],
 "metadata": {
  "kernelspec": {
   "display_name": ".venv",
   "language": "python",
   "name": "python3"
  },
  "language_info": {
   "codemirror_mode": {
    "name": "ipython",
    "version": 3
   },
   "file_extension": ".py",
   "mimetype": "text/x-python",
   "name": "python",
   "nbconvert_exporter": "python",
   "pygments_lexer": "ipython3",
   "version": "3.12.2"
  }
 },
 "nbformat": 4,
 "nbformat_minor": 2
}
